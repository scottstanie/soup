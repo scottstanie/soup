{
 "cells": [
  {
   "cell_type": "code",
   "execution_count": null,
   "metadata": {},
   "outputs": [],
   "source": [
    "# hide\n",
    "%load_ext autoreload\n",
    "%autoreload 2"
   ]
  },
  {
   "cell_type": "code",
   "execution_count": null,
   "metadata": {},
   "outputs": [],
   "source": [
    "# hide\n",
    "from sparsewrap.core import *"
   ]
  },
  {
   "cell_type": "markdown",
   "metadata": {},
   "source": [
    "# sparsewrap\n",
    "\n",
    "\n",
    "An implementation of [1] for unwrapping InSAR interferograms.\n",
    "\n"
   ]
  },
  {
   "cell_type": "markdown",
   "metadata": {},
   "source": [
    "## Install"
   ]
  },
  {
   "cell_type": "markdown",
   "metadata": {},
   "source": [
    "`pip install sparsewrap`\n",
    "\n",
    "`conda install sparsewrap`"
   ]
  },
  {
   "cell_type": "markdown",
   "metadata": {},
   "source": [
    "## How to use"
   ]
  },
  {
   "cell_type": "markdown",
   "metadata": {},
   "source": [
    "```bash\n",
    "sparsewrap 20150608_20170808.int\n",
    "```\n",
    "By default, will output to file `20150608_20170808.unw` matching the name.\n",
    "\n",
    "\n",
    "```bash\n",
    "sparsewrap 20150608_20170808.int -o 20150608_20170808.unw --debug --tol .5\n",
    "```\n",
    "\n",
    "For a input interferograms which aren't complex float32 binary format, `gdal` must be installed:\n",
    "\n",
    "```bash\n",
    "sparsewrap 20150608_20170808.vrt -o 20150608_20170808.unw\n",
    "```\n"
   ]
  },
  {
   "cell_type": "markdown",
   "metadata": {},
   "source": [
    "## References\n",
    "\n",
    "1. Chartrand, Rick, Matthew T. Calef, and Michael S. Warren. \"Exploiting Sparsity for Phase Unwrapping.\" IGARSS 2019-2019 IEEE International Geoscience and Remote Sensing Symposium. IEEE, 2019."
   ]
  },
  {
   "cell_type": "code",
   "execution_count": null,
   "metadata": {},
   "outputs": [],
   "source": []
  }
 ],
 "metadata": {
  "kernelspec": {
   "display_name": "Python 3",
   "language": "python",
   "name": "python3"
  }
 },
 "nbformat": 4,
 "nbformat_minor": 2
}
