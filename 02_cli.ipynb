{
 "cells": [
  {
   "cell_type": "code",
   "execution_count": null,
   "metadata": {},
   "outputs": [],
   "source": [
    "# default_exp cli"
   ]
  },
  {
   "cell_type": "markdown",
   "metadata": {},
   "source": [
    "# CLI: command line interface"
   ]
  },
  {
   "cell_type": "code",
   "execution_count": null,
   "metadata": {},
   "outputs": [],
   "source": [
    "# export\n",
    "import argparse\n",
    "import os\n",
    "import numpy as np\n",
    "from shrinkwrap.core import unwrap\n",
    "from shrinkwrap.loading import load_interferogram"
   ]
  },
  {
   "cell_type": "code",
   "execution_count": null,
   "metadata": {},
   "outputs": [],
   "source": [
    "# export\n",
    "\n",
    "\n",
    "def get_cli_args():\n",
    "    parser = argparse.ArgumentParser()\n",
    "    parser.add_argument(\"filename\", help=\"Name of interferogram file to load\")\n",
    "    parser.add_argument(\n",
    "        \"--outname\", \"-o\", help=\"Name of output file to save (default = `filename`.unw)\"\n",
    "    )\n",
    "    parser.add_argument(\n",
    "        \"--max-iters\",\n",
    "        default=500,\n",
    "        type=int,\n",
    "        help=\"maximum number of ADMM iterations to run (default = %(default)s)\",\n",
    "    )\n",
    "    parser.add_argument(\n",
    "        \"--tol\",\n",
    "        default=np.pi / 10,\n",
    "        type=float,\n",
    "        help=\"maximum allowed change for any pixel between ADMM iterations (default = %(default)s)\",\n",
    "    )\n",
    "    parser.add_argument(\n",
    "        \"--lmbda\",\n",
    "        default=1,\n",
    "        type=float,\n",
    "        help=\"splitting parameter of ADMM. Smaller = more stable, Larger = faster \"\n",
    "        \"convergence. (default = %(default)s)\",\n",
    "    )\n",
    "    parser.add_argument(\n",
    "        \"--p\",\n",
    "        default=0,\n",
    "        type=float,\n",
    "        help=\"value used in shrinkage operator (default = %(default)s)\",\n",
    "    )\n",
    "    parser.add_argument(\n",
    "        \"--c\",\n",
    "        default=1.3,\n",
    "        type=float,\n",
    "        help=\"acceleration constant using in updating lagrange multipliers in ADMM \"\n",
    "        \"(default = %(default)s)\",\n",
    "    )\n",
    "    parser.add_argument(\n",
    "        \"--dtype\",\n",
    "        default=\"float32\",\n",
    "        help=\"numpy datatype of filename (default = %(default)s)\",\n",
    "    )\n",
    "    parser.add_argument(\n",
    "        \"--debug\", action=\"store_true\", help=\"print diagnostic ADMM information\"\n",
    "    )\n",
    "    return parser.parse_args()\n",
    "\n",
    "\n",
    "def main():\n",
    "    arg_dict = vars(get_cli_args())\n",
    "    inname = arg_dict.pop(\"filename\")\n",
    "    igram = load_interferogram(inname)\n",
    "    mag = np.abs(igram)\n",
    "    phase = np.angle(igram)\n",
    "    outname = arg_dict.pop(\"outname\")\n",
    "    if outname is None:\n",
    "        base, ext = os.path.splitext(inname)\n",
    "        outname = base + \".unw\"\n",
    "\n",
    "    if not outname.endswith(\".unw\"):\n",
    "        raise NotImplementedError(\n",
    "            \"Only saving as binary .unw is implemented currently.\"\n",
    "        )\n",
    "    # TODO: save as other types?\n",
    "    unw_phase = unwrap(phase, **arg_dict)\n",
    "    unw_with_mag = np.hstack((mag, unw_phase))\n",
    "    print(unw_with_mag.dtype)\n",
    "    unw_with_mag.tofile(outname)"
   ]
  },
  {
   "cell_type": "code",
   "execution_count": null,
   "metadata": {},
   "outputs": [
    {
     "name": "stderr",
     "output_type": "stream",
     "text": [
      "usage: ipykernel_launcher.py [-h] [--outname OUTNAME] [--max-iters MAX_ITERS] [--tol TOL] [--lmbda LMBDA] [--p P] [--c C] [--dtype DTYPE] [--debug] filename\n",
      "ipykernel_launcher.py: error: unrecognized arguments: -f\n"
     ]
    },
    {
     "ename": "SystemExit",
     "evalue": "2",
     "output_type": "error",
     "traceback": [
      "An exception has occurred, use %tb to see the full traceback.\n",
      "\u001b[0;31mSystemExit\u001b[0m\u001b[0;31m:\u001b[0m 2\n"
     ]
    },
    {
     "name": "stderr",
     "output_type": "stream",
     "text": [
      "/Users/scott/opt/anaconda3/envs/mapping/lib/python3.8/site-packages/IPython/core/interactiveshell.py:3425: UserWarning: To exit: use 'exit', 'quit', or Ctrl-D.\n",
      "  warn(\"To exit: use 'exit', 'quit', or Ctrl-D.\", stacklevel=1)\n"
     ]
    }
   ],
   "source": [
    "# export\n",
    "if __name__ == \"__main__\":\n",
    "    main()"
   ]
  },
  {
   "cell_type": "code",
   "execution_count": null,
   "metadata": {},
   "outputs": [],
   "source": []
  }
 ],
 "metadata": {
  "kernelspec": {
   "display_name": "Python 3",
   "language": "python",
   "name": "python3"
  }
 },
 "nbformat": 4,
 "nbformat_minor": 4
}
