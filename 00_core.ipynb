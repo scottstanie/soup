{
 "cells": [
  {
   "cell_type": "code",
   "execution_count": null,
   "metadata": {},
   "outputs": [],
   "source": [
    "# default_exp core"
   ]
  },
  {
   "cell_type": "markdown",
   "metadata": {},
   "source": [
    "# shrinkwrap\n",
    "\n",
    "Unwrapping InSAR interferograms.\n",
    "\n",
    "> API details."
   ]
  },
  {
   "cell_type": "code",
   "execution_count": null,
   "metadata": {},
   "outputs": [],
   "source": [
    "#hide\n",
    "%load_ext autoreload\n",
    "%autoreload 2\n",
    "\n",
    "from nbdev.showdoc import *"
   ]
  },
  {
   "cell_type": "code",
   "execution_count": null,
   "metadata": {},
   "outputs": [],
   "source": [
    "# export\n",
    "import numpy as np\n",
    "from scipy import sparse as sp\n",
    "from scipy.fft import dctn, idctn"
   ]
  },
  {
   "cell_type": "code",
   "execution_count": null,
   "metadata": {},
   "outputs": [],
   "source": [
    "# export\n",
    "def make_differentiation_matrices(rows, columns, boundary_conditions='neumann', dtype=np.float32):\n",
    "    \"\"\"Generate derivative operators as sparse matrices.\n",
    "    \n",
    "    Matrix-vector multiplication is the fastest way to compute derivatives\n",
    "    of large arrays, particularly for images. This function generates\n",
    "    the matrices for computing derivatives. If derivatives of the same\n",
    "    size array will be computed more than once, then it generally is\n",
    "    faster to compute these arrays once, and then reuse them.\n",
    "\n",
    "    The three supported boundary conditions are 'neumann' (boundary\n",
    "    derivative values are zero), 'periodic' (the image ends wrap around \n",
    "    to beginning), and 'dirichlet' (out-of-bounds elements are zero). \n",
    "    'neumann' seems to work best for solving the unwrapping problem.\n",
    "    \n",
    "    Source: \n",
    "    https://github.com/rickchartrand/regularized_differentiation/blob/master/regularized_differentiation/differentiation.py\n",
    "    \"\"\"\n",
    "    bc_opts = ['neumann', 'periodic', 'dirichlet']\n",
    "    bc = boundary_conditions.strip().lower()\n",
    "    if bc not in bc_opts:\n",
    "        raise ValueError(f\"boundary_conditions must be in {bc_opts}\")\n",
    "        \n",
    "    # construct derivative with respect to x (axis=1)\n",
    "    D = sp.diags([-1., 1.], [0, 1], shape=(columns, columns),\n",
    "                 dtype=dtype).tolil()\n",
    "\n",
    "    if boundary_conditions.lower() == bc_opts[0]:  # neumann\n",
    "        D[-1, -1] = 0.\n",
    "    elif boundary_conditions.lower() == bc_opts[1]:  # periodic\n",
    "        D[-1, 0] = 1.\n",
    "    else:\n",
    "        pass\n",
    "\n",
    "    S = sp.eye(rows, dtype=dtype)\n",
    "    Dx = sp.kron(S, D, 'csr')\n",
    "\n",
    "    # construct derivative with respect to y (axis=0)\n",
    "    D = sp.diags([-1., 1.], [0, 1], shape=(rows, rows),\n",
    "                 dtype=dtype).tolil()\n",
    "\n",
    "    if boundary_conditions.lower() == bc_opts[0]:\n",
    "        D[-1, -1] = 0.\n",
    "    elif boundary_conditions.lower() == bc_opts[1]:\n",
    "        D[-1, 0] = 1.\n",
    "    else:\n",
    "        pass\n",
    "\n",
    "    S = sp.eye(columns, dtype=dtype)\n",
    "    Dy = sp.kron(D, S, 'csr')\n",
    "\n",
    "    return Dx, Dy"
   ]
  },
  {
   "cell_type": "code",
   "execution_count": null,
   "metadata": {},
   "outputs": [],
   "source": [
    "# export\n",
    "def make_laplace_kernel(rows, columns):\n",
    "    \"\"\"Generate eigenvalues of diagonalized Laplacian operator\n",
    "    \n",
    "    Used for quickly solving the linear system ||D \\Phi - phi|| = 0\n",
    "    \n",
    "    References:\n",
    "    Numerical recipes, Section 20.4.1, Eq. 20.4.22 is the Neumann case\n",
    "    or https://elonen.iki.fi/code/misc-notes/neumann-cosine/\n",
    "    \"\"\"\n",
    "    # Note that sign is reversed from numerical recipes eq., since \n",
    "    # here since our operator discretization sign reversed\n",
    "    xi_y = (2 - 2*np.cos(np.pi * np.arange(rows)/rows)).reshape((-1, 1))\n",
    "    xi_x = (2 - 2*np.cos(np.pi * np.arange(columns)/columns)).reshape((1, -1))\n",
    "    eigvals = xi_y + xi_x\n",
    "\n",
    "    K = np.nan_to_num(1 / eigvals, posinf=0, neginf=0)\n",
    "    return K"
   ]
  },
  {
   "cell_type": "code",
   "execution_count": null,
   "metadata": {},
   "outputs": [],
   "source": [
    "import matplotlib.pyplot as plt\n",
    "%matplotlib inline"
   ]
  },
  {
   "cell_type": "code",
   "execution_count": null,
   "metadata": {},
   "outputs": [
    {
     "data": {
      "text/plain": [
       "Text(0.5, 1.0, 'Dy')"
      ]
     },
     "execution_count": null,
     "metadata": {},
     "output_type": "execute_result"
    },
    {
     "data": {
      "image/png": "[encoded data removed]",
      "text/plain": [
       "<Figure size 432x288 with 2 Axes>"
      ]
     },
     "metadata": {
      "needs_background": "light"
     },
     "output_type": "display_data"
    }
   ],
   "source": [
    "rows, cols = 6, 4\n",
    "dx, dy = make_differentiation_matrices(rows, cols, boundary_conditions='periodic')\n",
    "\n",
    "fig, axes = plt.subplots(1, 2)\n",
    "axr = axes.ravel()\n",
    "axr[0].imshow((dx.todense()), cmap='coolwarm')\n",
    "axr[0].grid(True)\n",
    "axr[0].set_title(\"Dx\")\n",
    "axr[1].imshow((dy.todense()), cmap='coolwarm')\n",
    "axr[1].grid(True)\n",
    "axr[1].set_title(\"Dy\")"
   ]
  },
  {
   "cell_type": "markdown",
   "metadata": {},
   "source": [
    "Now the shrinkage operator:\n",
    "\n",
    "(Source: https://github.com/rickchartrand/regularized_differentiation/blob/master/regularized_differentiation/regularized_gradient.py#L268)"
   ]
  },
  {
   "cell_type": "code",
   "execution_count": null,
   "metadata": {},
   "outputs": [],
   "source": [
    "# export\n",
    "def p_shrink(X, lmbda=1, p=0, epsilon=0):\n",
    "    \"\"\"p-shrinkage in 1-D, with mollification.\"\"\"\n",
    "\n",
    "    magnitude = np.sqrt(np.sum(X ** 2, axis=0))\n",
    "    nonzero = magnitude.copy()\n",
    "    nonzero[magnitude == 0.0] = 1.0\n",
    "    magnitude = np.maximum(magnitude - lmbda ** (2.0 - p)\n",
    "                           * (nonzero ** 2 + epsilon) ** (p / 2.0 - 0.5),\n",
    "                           0) / nonzero\n",
    "\n",
    "    return magnitude * X"
   ]
  },
  {
   "cell_type": "markdown",
   "metadata": {},
   "source": [
    "The 0th axis is taken to be (x, y), and the magnitude is shrunk together (hence the sum along `axis=0`).\n",
    "\n",
    "When $p = 0$, this is equal to\n",
    "\n",
    "$$\n",
    "S_0(x) = \\text{max}(0, |x| - 1/|x|)\\text{sign}(x)\n",
    "$$\n"
   ]
  },
  {
   "cell_type": "code",
   "execution_count": null,
   "metadata": {},
   "outputs": [
    {
     "data": {
      "text/plain": [
       "Text(0.5, 1.0, 'p = 0 shrinkage operator')"
      ]
     },
     "execution_count": null,
     "metadata": {},
     "output_type": "execute_result"
    },
    {
     "data": {
      "image/png": "[encoded data removed]",
      "text/plain": [
       "<Figure size 432x288 with 1 Axes>"
      ]
     },
     "metadata": {
      "needs_background": "light"
     },
     "output_type": "display_data"
    }
   ],
   "source": [
    "p = 0\n",
    "xx = np.linspace(-2, 2).reshape((1, -1))\n",
    "fig, ax = plt.subplots()\n",
    "ax.plot(xx.ravel(), p_shrink(xx, p=p).ravel())\n",
    "ax.set_title(f\"{p = } shrinkage operator\")"
   ]
  },
  {
   "cell_type": "code",
   "execution_count": null,
   "metadata": {},
   "outputs": [
    {
     "ename": "NameError",
     "evalue": "name 'np' is not defined",
     "output_type": "error",
     "traceback": [
      "\u001b[0;31m---------------------------------------------------------------------------\u001b[0m",
      "\u001b[0;31mNameError\u001b[0m                                 Traceback (most recent call last)",
      "\u001b[0;32m<ipython-input-1-0ae1a5f85880>\u001b[0m in \u001b[0;36m<module>\u001b[0;34m\u001b[0m\n\u001b[1;32m      1\u001b[0m \u001b[0;31m# export\u001b[0m\u001b[0;34m\u001b[0m\u001b[0;34m\u001b[0m\u001b[0;34m\u001b[0m\u001b[0m\n\u001b[1;32m      2\u001b[0m def unwrap(f_wrapped, Dx=None, Dy=None, phi_x=None, phi_y=None, max_iters=100,\n\u001b[0;32m----> 3\u001b[0;31m            tol=np.pi/5, lmbda=1, p=0, c=1.3, dtype=np.float32, boundary_conditions='neumann'):\n\u001b[0m\u001b[1;32m      4\u001b[0m     \"\"\"Unwrap phase\n\u001b[1;32m      5\u001b[0m \u001b[0;34m\u001b[0m\u001b[0m\n",
      "\u001b[0;31mNameError\u001b[0m: name 'np' is not defined"
     ]
    }
   ],
   "source": [
    "# export\n",
    "def unwrap(f_wrapped, Dx=None, Dy=None, phi_x=None, phi_y=None, max_iters=100,\n",
    "           tol=np.pi/5, lmbda=1, p=0, c=1.3, dtype=np.float32, boundary_conditions='neumann'):\n",
    "    \"\"\"Unwrap phase\n",
    "    \n",
    "    \"\"\"\n",
    "    rows, columns = f_wrapped.shape\n",
    "    num = rows * columns\n",
    "    \n",
    "\n",
    "    if Dx is None or Dy is None:\n",
    "        print(f\"Making Dx, Dy with BCs={boundary_conditions}\")\n",
    "        Dx, Dy = make_differentiation_matrices(*f_wrapped.shape, boundary_conditions=boundary_conditions)\n",
    "\n",
    "    if phi_x is None or phi_y is None:\n",
    "        phi_x, phi_y = est_wrapped_gradient(f_wrapped, Dx, Dy)\n",
    "\n",
    "    # Estimates of \n",
    "    psi_x = np.zeros_like(phi_x, dtype=dtype)\n",
    "    psi_y = np.zeros_like(phi_y, dtype=dtype)\n",
    "    \n",
    "    # Lagrange multiplier variables\n",
    "    Lambda_x = np.zeros_like(phi_x, dtype=dtype)\n",
    "    Lambda_y = np.zeros_like(phi_y, dtype=dtype)\n",
    "\n",
    "    # aux. variables for ADMM, holding difference between \n",
    "    # unwrapped phase gradient and measured gradient from igram\n",
    "    w_x = np.zeros_like(phi_x, dtype=dtype)\n",
    "    w_y = np.zeros_like(phi_y, dtype=dtype)\n",
    "\n",
    "    F_old = np.zeros_like(f_wrapped)\n",
    "\n",
    "    # Get K ready once for solving linear system\n",
    "    K = make_laplace_kernel(rows, columns)\n",
    "\n",
    "    for iteration in range(max_iters):\n",
    "        \n",
    "        # update Unwrapped Phase F: solve linear eqn in fourier domain\n",
    "        # rhs = dx.T @ phi[0].ravel() + dy.T @ phi[1].ravel()\n",
    "        rx = w_x.ravel() + phi_x.ravel() - Lambda_x.ravel()\n",
    "        ry = w_y.ravel() + phi_y.ravel() - Lambda_y.ravel()\n",
    "        RHS = Dx.T * rx + Dy.T * ry\n",
    "        # Use DCT for neumann:\n",
    "        rho_hat = dctn(RHS.reshape(rows, columns), type=2)\n",
    "        F = idctn(rho_hat * K, type=2)\n",
    "\n",
    "        # calculate x, y gradients of new unwrapped phase estimate\n",
    "        Fx = (Dx @ F.ravel()).reshape(rows, columns)\n",
    "        Fy = (Dy @ F.ravel()).reshape(rows, columns)\n",
    "        \n",
    "        input_x = Fx - phi_x + Lambda_x\n",
    "        input_y = Fy - phi_y + Lambda_y\n",
    "        w_x, w_y = p_shrink(np.stack((input_x, input_y), axis=0), lmbda=lmbda, p=p, epsilon=0)\n",
    "        \n",
    "        # update lagrange multipliers\n",
    "        Lambda_x += c * (Fx - phi_x - w_x)\n",
    "        Lambda_y += c * (Fy - phi_y - w_y)\n",
    "\n",
    "        change = np.max(np.abs(F - F_old))\n",
    "        if debug:\n",
    "            print(f\"Iteration:{iteration} change={change}\")\n",
    "\n",
    "        if change < tol or np.isnan(change):\n",
    "            break\n",
    "        else:\n",
    "            F_old = F\n",
    "            \n",
    "\n",
    "    print(f\"Finished after {iteration} with change={change}\")\n",
    "    return F"
   ]
  },
  {
   "cell_type": "code",
   "execution_count": null,
   "metadata": {},
   "outputs": [],
   "source": []
  }
 ],
 "metadata": {
  "kernelspec": {
   "display_name": "Python 3",
   "language": "python",
   "name": "python3"
  }
 },
 "nbformat": 4,
 "nbformat_minor": 2
}
