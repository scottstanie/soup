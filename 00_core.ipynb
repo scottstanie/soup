{
 "cells": [
  {
   "cell_type": "code",
   "execution_count": null,
   "metadata": {},
   "outputs": [],
   "source": [
    "# default_exp core"
   ]
  },
  {
   "cell_type": "markdown",
   "metadata": {},
   "source": [
    "# shrinkwrap\n",
    "\n",
    "Unwrapping InSAR interferograms.\n",
    "\n",
    "> API details."
   ]
  },
  {
   "cell_type": "code",
   "execution_count": null,
   "metadata": {},
   "outputs": [],
   "source": [
    "#hide\n",
    "%load_ext autoreload\n",
    "%autoreload 2\n",
    "\n",
    "from nbdev.showdoc import *"
   ]
  },
  {
   "cell_type": "code",
   "execution_count": null,
   "metadata": {},
   "outputs": [],
   "source": [
    "# export\n",
    "import numpy as np\n",
    "from scipy import sparse as sp\n",
    "from scipy.fft import dctn, idctn"
   ]
  },
  {
   "cell_type": "code",
   "execution_count": null,
   "metadata": {},
   "outputs": [],
   "source": [
    "# export\n",
    "def make_differentiation_matrices(rows, columns, boundary_conditions='neumann', dtype=np.float32):\n",
    "    \"\"\"Generate derivative operators as sparse matrices.\n",
    "    \n",
    "    Matrix-vector multiplication is the fastest way to compute derivatives\n",
    "    of large arrays, particularly for images. This function generates\n",
    "    the matrices for computing derivatives. If derivatives of the same\n",
    "    size array will be computed more than once, then it generally is\n",
    "    faster to compute these arrays once, and then reuse them.\n",
    "\n",
    "    The three supported boundary conditions are 'neumann' (boundary\n",
    "    derivative values are zero), 'periodic' (the image ends wrap around \n",
    "    to beginning), and 'dirichlet' (out-of-bounds elements are zero). \n",
    "    'neumann' seems to work best for solving the unwrapping problem.\n",
    "    \n",
    "    Source: \n",
    "    https://github.com/rickchartrand/regularized_differentiation/blob/master/regularized_differentiation/differentiation.py\n",
    "    \"\"\"\n",
    "    bc_opts = ['neumann', 'periodic', 'dirichlet']\n",
    "    bc = boundary_conditions.strip().lower()\n",
    "    if bc not in bc_opts:\n",
    "        raise ValueError(f\"boundary_conditions must be in {bc_opts}\")\n",
    "        \n",
    "    # construct derivative with respect to x (axis=1)\n",
    "    D = sp.diags([-1., 1.], [0, 1], shape=(columns, columns),\n",
    "                 dtype=dtype).tolil()\n",
    "\n",
    "    if boundary_conditions.lower() == bc_opts[0]:  # neumann\n",
    "        D[-1, -1] = 0.\n",
    "    elif boundary_conditions.lower() == bc_opts[1]:  # periodic\n",
    "        D[-1, 0] = 1.\n",
    "    else:\n",
    "        pass\n",
    "\n",
    "    S = sp.eye(rows, dtype=dtype)\n",
    "    Dx = sp.kron(S, D, 'csr')\n",
    "\n",
    "    # construct derivative with respect to y (axis=0)\n",
    "    D = sp.diags([-1., 1.], [0, 1], shape=(rows, rows),\n",
    "                 dtype=dtype).tolil()\n",
    "\n",
    "    if boundary_conditions.lower() == bc_opts[0]:\n",
    "        D[-1, -1] = 0.\n",
    "    elif boundary_conditions.lower() == bc_opts[1]:\n",
    "        D[-1, 0] = 1.\n",
    "    else:\n",
    "        pass\n",
    "\n",
    "    S = sp.eye(columns, dtype=dtype)\n",
    "    Dy = sp.kron(D, S, 'csr')\n",
    "\n",
    "    return Dx, Dy"
   ]
  },
  {
   "cell_type": "code",
   "execution_count": null,
   "metadata": {},
   "outputs": [],
   "source": [
    "# export\n",
    "def make_laplace_kernel(rows, columns):\n",
    "    \"\"\"Generate eigenvalues of diagonalized Laplacian operator\n",
    "    \n",
    "    Used for quickly solving the linear system ||D \\Phi - phi|| = 0\n",
    "    \n",
    "    References:\n",
    "    Numerical recipes, Section 20.4.1, Eq. 20.4.22 is the Neumann case\n",
    "    or https://elonen.iki.fi/code/misc-notes/neumann-cosine/\n",
    "    \"\"\"\n",
    "    # Note that sign is reversed from numerical recipes eq., since \n",
    "    # here since our operator discretization sign reversed\n",
    "    xi_y = (2 - 2*np.cos(np.pi * np.arange(rows)/rows)).reshape((-1, 1))\n",
    "    xi_x = (2 - 2*np.cos(np.pi * np.arange(columns)/columns)).reshape((1, -1))\n",
    "    eigvals = xi_y + xi_x\n",
    "\n",
    "    K = np.nan_to_num(1 / eigvals, posinf=0, neginf=0)\n",
    "    return K"
   ]
  },
  {
   "cell_type": "code",
   "execution_count": null,
   "metadata": {},
   "outputs": [],
   "source": [
    "import matplotlib.pyplot as plt\n",
    "%matplotlib inline"
   ]
  },
  {
   "cell_type": "code",
   "execution_count": null,
   "metadata": {},
   "outputs": [
    {
     "data": {
      "text/plain": [
       "Text(0.5, 1.0, 'Dy')"
      ]
     },
     "execution_count": null,
     "metadata": {},
     "output_type": "execute_result"
    },
    {
     "data": {
      "image/png": "[encoded data removed]",
      "text/plain": [
       "<Figure size 432x288 with 2 Axes>"
      ]
     },
     "metadata": {
      "needs_background": "light"
     },
     "output_type": "display_data"
    }
   ],
   "source": [
    "rows, cols = 6, 4\n",
    "dx, dy = make_differentiation_matrices(rows, cols, boundary_conditions='periodic')\n",
    "\n",
    "fig, axes = plt.subplots(1, 2)\n",
    "axr = axes.ravel()\n",
    "axr[0].imshow((dx.todense()), cmap='coolwarm')\n",
    "axr[0].grid(True)\n",
    "axr[0].set_title(\"Dx\")\n",
    "axr[1].imshow((dy.todense()), cmap='coolwarm')\n",
    "axr[1].grid(True)\n",
    "axr[1].set_title(\"Dy\")"
   ]
  },
  {
   "cell_type": "code",
   "execution_count": null,
   "metadata": {},
   "outputs": [],
   "source": []
  },
  {
   "cell_type": "code",
   "execution_count": null,
   "metadata": {},
   "outputs": [],
   "source": []
  },
  {
   "cell_type": "code",
   "execution_count": null,
   "metadata": {},
   "outputs": [],
   "source": []
  }
 ],
 "metadata": {
  "kernelspec": {
   "display_name": "Python 3",
   "language": "python",
   "name": "python3"
  }
 },
 "nbformat": 4,
 "nbformat_minor": 2
}
